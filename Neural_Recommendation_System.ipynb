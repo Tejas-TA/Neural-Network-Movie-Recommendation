{
  "nbformat": 4,
  "nbformat_minor": 0,
  "metadata": {
    "colab": {
      "name": "Neural Recommendation System.ipynb",
      "provenance": [],
      "collapsed_sections": [],
      "mount_file_id": "1V72tTGKWhlnCySrWVPFA9Gihm1piSRqn",
      "authorship_tag": "ABX9TyOZHPg75Oc7ZvB2xuohYVKW",
      "include_colab_link": true
    },
    "kernelspec": {
      "name": "python3",
      "display_name": "Python 3"
    },
    "language_info": {
      "name": "python"
    },
    "accelerator": "GPU"
  },
  "cells": [
    {
      "cell_type": "markdown",
      "metadata": {
        "id": "view-in-github",
        "colab_type": "text"
      },
      "source": [
        "<a href=\"https://colab.research.google.com/github/Tejas-TA/Neural-Network-Movie-Recommendation-/blob/main/Neural_Recommendation_System.ipynb\" target=\"_parent\"><img src=\"https://colab.research.google.com/assets/colab-badge.svg\" alt=\"Open In Colab\"/></a>"
      ]
    },
    {
      "cell_type": "markdown",
      "metadata": {
        "id": "DEga11HkpqJe"
      },
      "source": [
        "# **Neural Collaborative filter based Movie Recommendation System**\n",
        "---\n",
        "This is a movie recommendation project. The dataset is from movielens dataset extract which contains ~100K records. The recommendation of a movie is based on the **Neural Collaborative** filtering technique."
      ]
    },
    {
      "cell_type": "markdown",
      "metadata": {
        "id": "ECKKGeE_dXBc"
      },
      "source": [
        "## Data Preprocessing\n",
        "\n",
        "Including Data Analysis, Visualization and Manipulation"
      ]
    },
    {
      "cell_type": "code",
      "metadata": {
        "id": "Tsi2ClbCsnbF"
      },
      "source": [
        "#Importing necessary libraries at once\n",
        "import pandas as pd\n",
        "import numpy as np\n",
        "import matplotlib.pyplot as plt\n",
        "%matplotlib inline\n",
        "\n",
        "from sklearn.model_selection import train_test_split\n",
        "from keras.models import Model\n",
        "from keras.layers import Input, Embedding, Flatten, Dense, Concatenate\n",
        "import tensorflow as tf"
      ],
      "execution_count": 1,
      "outputs": []
    },
    {
      "cell_type": "code",
      "metadata": {
        "colab": {
          "base_uri": "https://localhost:8080/",
          "height": 514
        },
        "id": "9g8JuY6ct2B0",
        "outputId": "dd971ac7-3ef1-4703-f393-69e801ceb9b8"
      },
      "source": [
        "#Importing dataset and assigning names to features\n",
        "titles = ['movie_ratings','movie_ids','user_ids','Timestamp']\n",
        "df = pd.read_csv('/content/drive/MyDrive/Recommendation System/data.csv', names = titles)\n",
        "df.head(15)"
      ],
      "execution_count": 2,
      "outputs": [
        {
          "output_type": "execute_result",
          "data": {
            "text/html": [
              "<div>\n",
              "<style scoped>\n",
              "    .dataframe tbody tr th:only-of-type {\n",
              "        vertical-align: middle;\n",
              "    }\n",
              "\n",
              "    .dataframe tbody tr th {\n",
              "        vertical-align: top;\n",
              "    }\n",
              "\n",
              "    .dataframe thead th {\n",
              "        text-align: right;\n",
              "    }\n",
              "</style>\n",
              "<table border=\"1\" class=\"dataframe\">\n",
              "  <thead>\n",
              "    <tr style=\"text-align: right;\">\n",
              "      <th></th>\n",
              "      <th>movie_ratings</th>\n",
              "      <th>movie_ids</th>\n",
              "      <th>user_ids</th>\n",
              "      <th>Timestamp</th>\n",
              "    </tr>\n",
              "  </thead>\n",
              "  <tbody>\n",
              "    <tr>\n",
              "      <th>0</th>\n",
              "      <td>3</td>\n",
              "      <td>242</td>\n",
              "      <td>196</td>\n",
              "      <td>881250949</td>\n",
              "    </tr>\n",
              "    <tr>\n",
              "      <th>1</th>\n",
              "      <td>3</td>\n",
              "      <td>302</td>\n",
              "      <td>186</td>\n",
              "      <td>891717742</td>\n",
              "    </tr>\n",
              "    <tr>\n",
              "      <th>2</th>\n",
              "      <td>1</td>\n",
              "      <td>377</td>\n",
              "      <td>22</td>\n",
              "      <td>878887116</td>\n",
              "    </tr>\n",
              "    <tr>\n",
              "      <th>3</th>\n",
              "      <td>2</td>\n",
              "      <td>51</td>\n",
              "      <td>244</td>\n",
              "      <td>880606923</td>\n",
              "    </tr>\n",
              "    <tr>\n",
              "      <th>4</th>\n",
              "      <td>1</td>\n",
              "      <td>346</td>\n",
              "      <td>166</td>\n",
              "      <td>886397596</td>\n",
              "    </tr>\n",
              "    <tr>\n",
              "      <th>5</th>\n",
              "      <td>4</td>\n",
              "      <td>474</td>\n",
              "      <td>298</td>\n",
              "      <td>884182806</td>\n",
              "    </tr>\n",
              "    <tr>\n",
              "      <th>6</th>\n",
              "      <td>2</td>\n",
              "      <td>265</td>\n",
              "      <td>115</td>\n",
              "      <td>881171488</td>\n",
              "    </tr>\n",
              "    <tr>\n",
              "      <th>7</th>\n",
              "      <td>5</td>\n",
              "      <td>465</td>\n",
              "      <td>253</td>\n",
              "      <td>891628467</td>\n",
              "    </tr>\n",
              "    <tr>\n",
              "      <th>8</th>\n",
              "      <td>3</td>\n",
              "      <td>451</td>\n",
              "      <td>305</td>\n",
              "      <td>886324817</td>\n",
              "    </tr>\n",
              "    <tr>\n",
              "      <th>9</th>\n",
              "      <td>3</td>\n",
              "      <td>86</td>\n",
              "      <td>6</td>\n",
              "      <td>883603013</td>\n",
              "    </tr>\n",
              "    <tr>\n",
              "      <th>10</th>\n",
              "      <td>2</td>\n",
              "      <td>257</td>\n",
              "      <td>62</td>\n",
              "      <td>879372434</td>\n",
              "    </tr>\n",
              "    <tr>\n",
              "      <th>11</th>\n",
              "      <td>5</td>\n",
              "      <td>1014</td>\n",
              "      <td>286</td>\n",
              "      <td>879781125</td>\n",
              "    </tr>\n",
              "    <tr>\n",
              "      <th>12</th>\n",
              "      <td>5</td>\n",
              "      <td>222</td>\n",
              "      <td>200</td>\n",
              "      <td>876042340</td>\n",
              "    </tr>\n",
              "    <tr>\n",
              "      <th>13</th>\n",
              "      <td>3</td>\n",
              "      <td>40</td>\n",
              "      <td>210</td>\n",
              "      <td>891035994</td>\n",
              "    </tr>\n",
              "    <tr>\n",
              "      <th>14</th>\n",
              "      <td>3</td>\n",
              "      <td>29</td>\n",
              "      <td>224</td>\n",
              "      <td>888104457</td>\n",
              "    </tr>\n",
              "  </tbody>\n",
              "</table>\n",
              "</div>"
            ],
            "text/plain": [
              "    movie_ratings  movie_ids  user_ids  Timestamp\n",
              "0               3        242       196  881250949\n",
              "1               3        302       186  891717742\n",
              "2               1        377        22  878887116\n",
              "3               2         51       244  880606923\n",
              "4               1        346       166  886397596\n",
              "5               4        474       298  884182806\n",
              "6               2        265       115  881171488\n",
              "7               5        465       253  891628467\n",
              "8               3        451       305  886324817\n",
              "9               3         86         6  883603013\n",
              "10              2        257        62  879372434\n",
              "11              5       1014       286  879781125\n",
              "12              5        222       200  876042340\n",
              "13              3         40       210  891035994\n",
              "14              3         29       224  888104457"
            ]
          },
          "metadata": {
            "tags": []
          },
          "execution_count": 2
        }
      ]
    },
    {
      "cell_type": "code",
      "metadata": {
        "colab": {
          "base_uri": "https://localhost:8080/",
          "height": 630
        },
        "id": "REcVhW65Y8_Z",
        "outputId": "6989b1b1-847a-41f5-a0ce-202591264a99"
      },
      "source": [
        "#Plotting ratings chart\n",
        "plt.figure(figsize=(10,10)) \n",
        "plt.rc(\"font\", size=11)\n",
        "df.movie_ratings.value_counts(sort=False).plot(kind='bar', color ='maroon')\n",
        "plt.title('Movie Rating Distribution')\n",
        "plt.xlabel('\\nRating')\n",
        "plt.ylabel('No. of movies')\n",
        "plt.show()"
      ],
      "execution_count": 3,
      "outputs": [
        {
          "output_type": "display_data",
          "data": {
            "image/png": "[encoded data removed]",
            "text/plain": [
              "<Figure size 720x720 with 1 Axes>"
            ]
          },
          "metadata": {
            "tags": [],
            "needs_background": "light"
          }
        }
      ]
    },
    {
      "cell_type": "code",
      "metadata": {
        "colab": {
          "base_uri": "https://localhost:8080/"
        },
        "id": "6fUijopA0CyS",
        "outputId": "08f0549d-5a3d-4a1e-bbf0-1405cc5d8cac"
      },
      "source": [
        "#Extracting column names\n",
        "column_names = list(df.columns.values)\n",
        "column_names"
      ],
      "execution_count": 4,
      "outputs": [
        {
          "output_type": "execute_result",
          "data": {
            "text/plain": [
              "['movie_ratings', 'movie_ids', 'user_ids', 'Timestamp']"
            ]
          },
          "metadata": {
            "tags": []
          },
          "execution_count": 4
        }
      ]
    },
    {
      "cell_type": "code",
      "metadata": {
        "colab": {
          "base_uri": "https://localhost:8080/",
          "height": 514
        },
        "id": "uRmD0zUb0KbV",
        "outputId": "61850ddb-71b7-4a9c-e85e-b3cab2d6c5eb"
      },
      "source": [
        "#Re-ordering columns\n",
        "df = df[['user_ids', 'movie_ids', 'movie_ratings','Timestamp']]\n",
        "df.head(15)"
      ],
      "execution_count": 5,
      "outputs": [
        {
          "output_type": "execute_result",
          "data": {
            "text/html": [
              "<div>\n",
              "<style scoped>\n",
              "    .dataframe tbody tr th:only-of-type {\n",
              "        vertical-align: middle;\n",
              "    }\n",
              "\n",
              "    .dataframe tbody tr th {\n",
              "        vertical-align: top;\n",
              "    }\n",
              "\n",
              "    .dataframe thead th {\n",
              "        text-align: right;\n",
              "    }\n",
              "</style>\n",
              "<table border=\"1\" class=\"dataframe\">\n",
              "  <thead>\n",
              "    <tr style=\"text-align: right;\">\n",
              "      <th></th>\n",
              "      <th>user_ids</th>\n",
              "      <th>movie_ids</th>\n",
              "      <th>movie_ratings</th>\n",
              "      <th>Timestamp</th>\n",
              "    </tr>\n",
              "  </thead>\n",
              "  <tbody>\n",
              "    <tr>\n",
              "      <th>0</th>\n",
              "      <td>196</td>\n",
              "      <td>242</td>\n",
              "      <td>3</td>\n",
              "      <td>881250949</td>\n",
              "    </tr>\n",
              "    <tr>\n",
              "      <th>1</th>\n",
              "      <td>186</td>\n",
              "      <td>302</td>\n",
              "      <td>3</td>\n",
              "      <td>891717742</td>\n",
              "    </tr>\n",
              "    <tr>\n",
              "      <th>2</th>\n",
              "      <td>22</td>\n",
              "      <td>377</td>\n",
              "      <td>1</td>\n",
              "      <td>878887116</td>\n",
              "    </tr>\n",
              "    <tr>\n",
              "      <th>3</th>\n",
              "      <td>244</td>\n",
              "      <td>51</td>\n",
              "      <td>2</td>\n",
              "      <td>880606923</td>\n",
              "    </tr>\n",
              "    <tr>\n",
              "      <th>4</th>\n",
              "      <td>166</td>\n",
              "      <td>346</td>\n",
              "      <td>1</td>\n",
              "      <td>886397596</td>\n",
              "    </tr>\n",
              "    <tr>\n",
              "      <th>5</th>\n",
              "      <td>298</td>\n",
              "      <td>474</td>\n",
              "      <td>4</td>\n",
              "      <td>884182806</td>\n",
              "    </tr>\n",
              "    <tr>\n",
              "      <th>6</th>\n",
              "      <td>115</td>\n",
              "      <td>265</td>\n",
              "      <td>2</td>\n",
              "      <td>881171488</td>\n",
              "    </tr>\n",
              "    <tr>\n",
              "      <th>7</th>\n",
              "      <td>253</td>\n",
              "      <td>465</td>\n",
              "      <td>5</td>\n",
              "      <td>891628467</td>\n",
              "    </tr>\n",
              "    <tr>\n",
              "      <th>8</th>\n",
              "      <td>305</td>\n",
              "      <td>451</td>\n",
              "      <td>3</td>\n",
              "      <td>886324817</td>\n",
              "    </tr>\n",
              "    <tr>\n",
              "      <th>9</th>\n",
              "      <td>6</td>\n",
              "      <td>86</td>\n",
              "      <td>3</td>\n",
              "      <td>883603013</td>\n",
              "    </tr>\n",
              "    <tr>\n",
              "      <th>10</th>\n",
              "      <td>62</td>\n",
              "      <td>257</td>\n",
              "      <td>2</td>\n",
              "      <td>879372434</td>\n",
              "    </tr>\n",
              "    <tr>\n",
              "      <th>11</th>\n",
              "      <td>286</td>\n",
              "      <td>1014</td>\n",
              "      <td>5</td>\n",
              "      <td>879781125</td>\n",
              "    </tr>\n",
              "    <tr>\n",
              "      <th>12</th>\n",
              "      <td>200</td>\n",
              "      <td>222</td>\n",
              "      <td>5</td>\n",
              "      <td>876042340</td>\n",
              "    </tr>\n",
              "    <tr>\n",
              "      <th>13</th>\n",
              "      <td>210</td>\n",
              "      <td>40</td>\n",
              "      <td>3</td>\n",
              "      <td>891035994</td>\n",
              "    </tr>\n",
              "    <tr>\n",
              "      <th>14</th>\n",
              "      <td>224</td>\n",
              "      <td>29</td>\n",
              "      <td>3</td>\n",
              "      <td>888104457</td>\n",
              "    </tr>\n",
              "  </tbody>\n",
              "</table>\n",
              "</div>"
            ],
            "text/plain": [
              "    user_ids  movie_ids  movie_ratings  Timestamp\n",
              "0        196        242              3  881250949\n",
              "1        186        302              3  891717742\n",
              "2         22        377              1  878887116\n",
              "3        244         51              2  880606923\n",
              "4        166        346              1  886397596\n",
              "5        298        474              4  884182806\n",
              "6        115        265              2  881171488\n",
              "7        253        465              5  891628467\n",
              "8        305        451              3  886324817\n",
              "9          6         86              3  883603013\n",
              "10        62        257              2  879372434\n",
              "11       286       1014              5  879781125\n",
              "12       200        222              5  876042340\n",
              "13       210         40              3  891035994\n",
              "14       224         29              3  888104457"
            ]
          },
          "metadata": {
            "tags": []
          },
          "execution_count": 5
        }
      ]
    },
    {
      "cell_type": "code",
      "metadata": {
        "colab": {
          "base_uri": "https://localhost:8080/",
          "height": 359
        },
        "id": "R-Sn0ilPeo3y",
        "outputId": "2d825acd-ceea-4664-925d-fe0bb48c3a99"
      },
      "source": [
        "#Dataset has ~100k records\n",
        "df.tail(10)"
      ],
      "execution_count": 6,
      "outputs": [
        {
          "output_type": "execute_result",
          "data": {
            "text/html": [
              "<div>\n",
              "<style scoped>\n",
              "    .dataframe tbody tr th:only-of-type {\n",
              "        vertical-align: middle;\n",
              "    }\n",
              "\n",
              "    .dataframe tbody tr th {\n",
              "        vertical-align: top;\n",
              "    }\n",
              "\n",
              "    .dataframe thead th {\n",
              "        text-align: right;\n",
              "    }\n",
              "</style>\n",
              "<table border=\"1\" class=\"dataframe\">\n",
              "  <thead>\n",
              "    <tr style=\"text-align: right;\">\n",
              "      <th></th>\n",
              "      <th>user_ids</th>\n",
              "      <th>movie_ids</th>\n",
              "      <th>movie_ratings</th>\n",
              "      <th>Timestamp</th>\n",
              "    </tr>\n",
              "  </thead>\n",
              "  <tbody>\n",
              "    <tr>\n",
              "      <th>99990</th>\n",
              "      <td>806</td>\n",
              "      <td>421</td>\n",
              "      <td>4</td>\n",
              "      <td>882388897</td>\n",
              "    </tr>\n",
              "    <tr>\n",
              "      <th>99991</th>\n",
              "      <td>676</td>\n",
              "      <td>538</td>\n",
              "      <td>4</td>\n",
              "      <td>892685437</td>\n",
              "    </tr>\n",
              "    <tr>\n",
              "      <th>99992</th>\n",
              "      <td>721</td>\n",
              "      <td>262</td>\n",
              "      <td>3</td>\n",
              "      <td>877137285</td>\n",
              "    </tr>\n",
              "    <tr>\n",
              "      <th>99993</th>\n",
              "      <td>913</td>\n",
              "      <td>209</td>\n",
              "      <td>2</td>\n",
              "      <td>881367150</td>\n",
              "    </tr>\n",
              "    <tr>\n",
              "      <th>99994</th>\n",
              "      <td>378</td>\n",
              "      <td>78</td>\n",
              "      <td>3</td>\n",
              "      <td>880056976</td>\n",
              "    </tr>\n",
              "    <tr>\n",
              "      <th>99995</th>\n",
              "      <td>880</td>\n",
              "      <td>476</td>\n",
              "      <td>3</td>\n",
              "      <td>880175444</td>\n",
              "    </tr>\n",
              "    <tr>\n",
              "      <th>99996</th>\n",
              "      <td>716</td>\n",
              "      <td>204</td>\n",
              "      <td>5</td>\n",
              "      <td>879795543</td>\n",
              "    </tr>\n",
              "    <tr>\n",
              "      <th>99997</th>\n",
              "      <td>276</td>\n",
              "      <td>1090</td>\n",
              "      <td>1</td>\n",
              "      <td>874795795</td>\n",
              "    </tr>\n",
              "    <tr>\n",
              "      <th>99998</th>\n",
              "      <td>13</td>\n",
              "      <td>225</td>\n",
              "      <td>2</td>\n",
              "      <td>882399156</td>\n",
              "    </tr>\n",
              "    <tr>\n",
              "      <th>99999</th>\n",
              "      <td>12</td>\n",
              "      <td>203</td>\n",
              "      <td>3</td>\n",
              "      <td>879959583</td>\n",
              "    </tr>\n",
              "  </tbody>\n",
              "</table>\n",
              "</div>"
            ],
            "text/plain": [
              "       user_ids  movie_ids  movie_ratings  Timestamp\n",
              "99990       806        421              4  882388897\n",
              "99991       676        538              4  892685437\n",
              "99992       721        262              3  877137285\n",
              "99993       913        209              2  881367150\n",
              "99994       378         78              3  880056976\n",
              "99995       880        476              3  880175444\n",
              "99996       716        204              5  879795543\n",
              "99997       276       1090              1  874795795\n",
              "99998        13        225              2  882399156\n",
              "99999        12        203              3  879959583"
            ]
          },
          "metadata": {
            "tags": []
          },
          "execution_count": 6
        }
      ]
    },
    {
      "cell_type": "markdown",
      "metadata": {
        "id": "z5r5qjsNdyZP"
      },
      "source": [
        "## Neural Network Building"
      ]
    },
    {
      "cell_type": "code",
      "metadata": {
        "id": "wFm-IRn11dVu"
      },
      "source": [
        "#Splitting the dataset into train and test \n",
        "train, test = train_test_split(df, test_size=0.25, random_state=42)"
      ],
      "execution_count": 7,
      "outputs": []
    },
    {
      "cell_type": "code",
      "metadata": {
        "colab": {
          "base_uri": "https://localhost:8080/"
        },
        "id": "rWdn9zq-9w_Y",
        "outputId": "b0e0e934-ee78-4644-97ec-4415552afef2"
      },
      "source": [
        "n_users = len(df.user_ids.unique())\n",
        "n_users"
      ],
      "execution_count": 8,
      "outputs": [
        {
          "output_type": "execute_result",
          "data": {
            "text/plain": [
              "943"
            ]
          },
          "metadata": {
            "tags": []
          },
          "execution_count": 8
        }
      ]
    },
    {
      "cell_type": "code",
      "metadata": {
        "colab": {
          "base_uri": "https://localhost:8080/"
        },
        "id": "xhr7hCSo99ga",
        "outputId": "4503eebe-a0f9-4fb3-fdfa-ac69895dc0cc"
      },
      "source": [
        "n_items = len(df.movie_ids.unique())\n",
        "n_items"
      ],
      "execution_count": 9,
      "outputs": [
        {
          "output_type": "execute_result",
          "data": {
            "text/plain": [
              "1682"
            ]
          },
          "metadata": {
            "tags": []
          },
          "execution_count": 9
        }
      ]
    },
    {
      "cell_type": "code",
      "metadata": {
        "id": "sIeWdc4T1l_G"
      },
      "source": [
        "#Creating movie embedding path\n",
        "movie_input = Input(shape = [1], name = \"Movie-Input\")\n",
        "movie_embedding = Embedding(n_items + 1, 5, name= \"Movie-Embedding\")(movie_input)\n",
        "movie_vec = Flatten(name = \"Flatten-Movies\")(movie_embedding)\n",
        "\n",
        "#Creating user embedding path\n",
        "user_input = Input(shape = [1], name = \"User-Input\")\n",
        "user_embedding = Embedding(n_users + 1, 5, name = \"User-Embedding\")(user_input)\n",
        "user_vec = Flatten(name = \"Flatten-Users\")(user_embedding)\n",
        "\n",
        "#Concatenate features\n",
        "conc = Concatenate()([movie_vec, user_vec])\n",
        "\n",
        "#Weight Initialization\n",
        "initializer = tf.keras.initializers.RandomUniform(minval=0., maxval=1., seed = None)\n",
        "\n",
        "#Add fully-connected-layers\n",
        "fc1 = Dense(128, activation='relu')(conc)\n",
        "fc2 = Dense(100, activation='relu')(fc1)\n",
        "fc3 = Dense(80, activation='relu')(fc2)\n",
        "fc4 = Dense(60, activation='relu')(fc3)\n",
        "fc5 = Dense(32, activation='relu')(fc4)\n",
        "out = Dense(1)(fc5)\n",
        "\n",
        "#Create model and compile it\n",
        "model = Model([user_input, movie_input], out)\n",
        "model.compile('adam', 'mean_squared_error')"
      ],
      "execution_count": 10,
      "outputs": []
    },
    {
      "cell_type": "code",
      "metadata": {
        "colab": {
          "base_uri": "https://localhost:8080/"
        },
        "id": "S3IEwT96gs79",
        "outputId": "96ab6f14-875a-497a-8847-e565982569b6"
      },
      "source": [
        "model.summary()"
      ],
      "execution_count": 11,
      "outputs": [
        {
          "output_type": "stream",
          "text": [
            "Model: \"model\"\n",
            "__________________________________________________________________________________________________\n",
            "Layer (type)                    Output Shape         Param #     Connected to                     \n",
            "==================================================================================================\n",
            "Movie-Input (InputLayer)        [(None, 1)]          0                                            \n",
            "__________________________________________________________________________________________________\n",
            "User-Input (InputLayer)         [(None, 1)]          0                                            \n",
            "__________________________________________________________________________________________________\n",
            "Movie-Embedding (Embedding)     (None, 1, 5)         8415        Movie-Input[0][0]                \n",
            "__________________________________________________________________________________________________\n",
            "User-Embedding (Embedding)      (None, 1, 5)         4720        User-Input[0][0]                 \n",
            "__________________________________________________________________________________________________\n",
            "Flatten-Movies (Flatten)        (None, 5)            0           Movie-Embedding[0][0]            \n",
            "__________________________________________________________________________________________________\n",
            "Flatten-Users (Flatten)         (None, 5)            0           User-Embedding[0][0]             \n",
            "__________________________________________________________________________________________________\n",
            "concatenate (Concatenate)       (None, 10)           0           Flatten-Movies[0][0]             \n",
            "                                                                 Flatten-Users[0][0]              \n",
            "__________________________________________________________________________________________________\n",
            "dense (Dense)                   (None, 128)          1408        concatenate[0][0]                \n",
            "__________________________________________________________________________________________________\n",
            "dense_1 (Dense)                 (None, 100)          12900       dense[0][0]                      \n",
            "__________________________________________________________________________________________________\n",
            "dense_2 (Dense)                 (None, 80)           8080        dense_1[0][0]                    \n",
            "__________________________________________________________________________________________________\n",
            "dense_3 (Dense)                 (None, 60)           4860        dense_2[0][0]                    \n",
            "__________________________________________________________________________________________________\n",
            "dense_4 (Dense)                 (None, 32)           1952        dense_3[0][0]                    \n",
            "__________________________________________________________________________________________________\n",
            "dense_5 (Dense)                 (None, 1)            33          dense_4[0][0]                    \n",
            "==================================================================================================\n",
            "Total params: 42,368\n",
            "Trainable params: 42,368\n",
            "Non-trainable params: 0\n",
            "__________________________________________________________________________________________________\n"
          ],
          "name": "stdout"
        }
      ]
    },
    {
      "cell_type": "code",
      "metadata": {
        "colab": {
          "base_uri": "https://localhost:8080/"
        },
        "id": "Owe3eqE62vPS",
        "outputId": "0ab976f5-1735-4898-97c8-81b17009f907"
      },
      "source": [
        "history = model.fit([train.user_ids, train.movie_ids], train.movie_ratings, epochs = 18, verbose = 1)"
      ],
      "execution_count": 12,
      "outputs": [
        {
          "output_type": "stream",
          "text": [
            "Epoch 1/18\n",
            "2344/2344 [==============================] - 20s 3ms/step - loss: 1.6062\n",
            "Epoch 2/18\n",
            "2344/2344 [==============================] - 7s 3ms/step - loss: 0.8927\n",
            "Epoch 3/18\n",
            "2344/2344 [==============================] - 7s 3ms/step - loss: 0.8538\n",
            "Epoch 4/18\n",
            "2344/2344 [==============================] - 7s 3ms/step - loss: 0.8277\n",
            "Epoch 5/18\n",
            "2344/2344 [==============================] - 7s 3ms/step - loss: 0.7902\n",
            "Epoch 6/18\n",
            "2344/2344 [==============================] - 7s 3ms/step - loss: 0.7529\n",
            "Epoch 7/18\n",
            "2344/2344 [==============================] - 7s 3ms/step - loss: 0.7246\n",
            "Epoch 8/18\n",
            "2344/2344 [==============================] - 7s 3ms/step - loss: 0.7077\n",
            "Epoch 9/18\n",
            "2344/2344 [==============================] - 7s 3ms/step - loss: 0.6888\n",
            "Epoch 10/18\n",
            "2344/2344 [==============================] - 7s 3ms/step - loss: 0.6831\n",
            "Epoch 11/18\n",
            "2344/2344 [==============================] - 7s 3ms/step - loss: 0.6623\n",
            "Epoch 12/18\n",
            "2344/2344 [==============================] - 7s 3ms/step - loss: 0.6589\n",
            "Epoch 13/18\n",
            "2344/2344 [==============================] - 7s 3ms/step - loss: 0.6529\n",
            "Epoch 14/18\n",
            "2344/2344 [==============================] - 7s 3ms/step - loss: 0.6499\n",
            "Epoch 15/18\n",
            "2344/2344 [==============================] - 7s 3ms/step - loss: 0.6433\n",
            "Epoch 16/18\n",
            "2344/2344 [==============================] - 7s 3ms/step - loss: 0.6364\n",
            "Epoch 17/18\n",
            "2344/2344 [==============================] - 7s 3ms/step - loss: 0.6317\n",
            "Epoch 18/18\n",
            "2344/2344 [==============================] - 7s 3ms/step - loss: 0.6149\n"
          ],
          "name": "stdout"
        }
      ]
    },
    {
      "cell_type": "code",
      "metadata": {
        "colab": {
          "base_uri": "https://localhost:8080/"
        },
        "id": "fmaVvAgPLwtA",
        "outputId": "40df285f-7efc-486f-c449-36873316d604"
      },
      "source": [
        "model.evaluate([test.user_ids, test.movie_ids], test.movie_ratings)"
      ],
      "execution_count": 13,
      "outputs": [
        {
          "output_type": "stream",
          "text": [
            "782/782 [==============================] - 2s 2ms/step - loss: 0.9274\n"
          ],
          "name": "stdout"
        },
        {
          "output_type": "execute_result",
          "data": {
            "text/plain": [
              "0.9273605346679688"
            ]
          },
          "metadata": {
            "tags": []
          },
          "execution_count": 13
        }
      ]
    },
    {
      "cell_type": "markdown",
      "metadata": {
        "id": "SDwKFc--d61h"
      },
      "source": [
        "## Movie Rating Prediction"
      ]
    },
    {
      "cell_type": "code",
      "metadata": {
        "colab": {
          "base_uri": "https://localhost:8080/"
        },
        "id": "ym9tCC0TCD43",
        "outputId": "0aa477ee-523c-45ca-f338-03ed8e5923c5"
      },
      "source": [
        "#Predicting ratings\n",
        "predictions = model.predict([test.user_ids.head(10), test.movie_ids.head(10)])\n",
        "[print(predictions[i], test.movie_ratings.iloc[i]) for i in range(0,10)]"
      ],
      "execution_count": 14,
      "outputs": [
        {
          "output_type": "stream",
          "text": [
            "[3.7645354] 4\n",
            "[3.7596421] 3\n",
            "[3.5160546] 4\n",
            "[2.0176213] 2\n",
            "[4.0441256] 2\n",
            "[3.4688585] 3\n",
            "[4.1284647] 5\n",
            "[4.216727] 4\n",
            "[3.4606106] 3\n",
            "[2.9891217] 4\n"
          ],
          "name": "stdout"
        },
        {
          "output_type": "execute_result",
          "data": {
            "text/plain": [
              "[None, None, None, None, None, None, None, None, None, None]"
            ]
          },
          "metadata": {
            "tags": []
          },
          "execution_count": 14
        }
      ]
    },
    {
      "cell_type": "code",
      "metadata": {
        "colab": {
          "base_uri": "https://localhost:8080/",
          "height": 388
        },
        "id": "k31pCiQiKe4X",
        "outputId": "e428f362-08eb-41f9-e13b-2f1cdd98b49f"
      },
      "source": [
        "#Plotting loss function against epochs, as epochs increased error decreases\n",
        "plt.figure(figsize=(10,6)) \n",
        "plt.plot(history.history['loss'])\n",
        "plt.xlabel(\"Epochs\")\n",
        "plt.ylabel(\"Training Error\")\n",
        "plt.legend([\"Epoch vs Training Error\"])\n",
        "plt.show()"
      ],
      "execution_count": 15,
      "outputs": [
        {
          "output_type": "display_data",
          "data": {
            "image/png": "[encoded data removed]",
            "text/plain": [
              "<Figure size 720x432 with 1 Axes>"
            ]
          },
          "metadata": {
            "tags": [],
            "needs_background": "light"
          }
        }
      ]
    },
    {
      "cell_type": "code",
      "metadata": {
        "colab": {
          "base_uri": "https://localhost:8080/"
        },
        "id": "Baa0t5H4pMap",
        "outputId": "edb35e3b-07db-46c9-934d-fa9529bf206d"
      },
      "source": [
        "#Show the best validation RMSE\n",
        "import math\n",
        "min_val_loss, idx = min((val, idx) for (idx, val) in enumerate(history.history['loss']))\n",
        "print ('Minimum RMSE at epoch', '{:d}'.format(idx+1), '=', '{:.4f}'.format(math.sqrt(min_val_loss)))"
      ],
      "execution_count": 16,
      "outputs": [
        {
          "output_type": "stream",
          "text": [
            "Minimum RMSE at epoch 18 = 0.8002\n"
          ],
          "name": "stdout"
        }
      ]
    },
    {
      "cell_type": "code",
      "metadata": {
        "id": "37Y5zXqxLpy7"
      },
      "source": [
        "#Run this to save the model. \n",
        "#Note: Consumes lot of drive space\n",
        "#model2.save('Recommendation_Model_Neural_Network.h5')"
      ],
      "execution_count": 17,
      "outputs": []
    },
    {
      "cell_type": "markdown",
      "metadata": {
        "id": "X8BvnIbFfv0_"
      },
      "source": [
        "## Embeddings Visualization"
      ]
    },
    {
      "cell_type": "code",
      "metadata": {
        "id": "fL3-DbO-MO5Z"
      },
      "source": [
        "item_em = model.get_layer('Movie-Embedding')\n",
        "item_em_weights = item_em.get_weights()[0]"
      ],
      "execution_count": 18,
      "outputs": []
    },
    {
      "cell_type": "code",
      "metadata": {
        "colab": {
          "base_uri": "https://localhost:8080/"
        },
        "id": "Hk5cOhkRNc8P",
        "outputId": "33f4fc0a-9d19-4d86-f8d4-e1453ad4ed97"
      },
      "source": [
        "item_em_weights[:5]"
      ],
      "execution_count": 19,
      "outputs": [
        {
          "output_type": "execute_result",
          "data": {
            "text/plain": [
              "array([[ 0.02110325, -0.00528955, -0.02910987, -0.01247922,  0.02127017],\n",
              "       [-0.01775989, -0.359468  , -0.16436082, -0.2660597 , -0.15996885],\n",
              "       [-0.12550692, -0.21725251, -0.04070576, -0.16161682,  0.08622047],\n",
              "       [ 0.02602149,  0.14989322,  0.12241415,  0.10182509, -0.03654853],\n",
              "       [ 0.07379519,  0.0327619 , -0.06232721, -0.07644718, -0.13666295]],\n",
              "      dtype=float32)"
            ]
          },
          "metadata": {
            "tags": []
          },
          "execution_count": 19
        }
      ]
    },
    {
      "cell_type": "code",
      "metadata": {
        "colab": {
          "base_uri": "https://localhost:8080/",
          "height": 391
        },
        "id": "S-xYpnfxNkJM",
        "outputId": "d98110e3-b5a3-45df-9bfc-7e383bab222d"
      },
      "source": [
        "from sklearn.decomposition import PCA\n",
        "import seaborn as sns\n",
        "\n",
        "plt.figure(figsize=(10,6)) \n",
        "\n",
        "pca = PCA(n_components=2)\n",
        "pca_result = pca.fit_transform(item_em_weights)\n",
        "sns.scatterplot(x=pca_result[:,0], y=pca_result[:,1])"
      ],
      "execution_count": 20,
      "outputs": [
        {
          "output_type": "execute_result",
          "data": {
            "text/plain": [
              "<matplotlib.axes._subplots.AxesSubplot at 0x7f2ff44d3f10>"
            ]
          },
          "metadata": {
            "tags": []
          },
          "execution_count": 20
        },
        {
          "output_type": "display_data",
          "data": {
            "image/png": "[encoded data removed]",
            "text/plain": [
              "<Figure size 720x432 with 1 Axes>"
            ]
          },
          "metadata": {
            "tags": [],
            "needs_background": "light"
          }
        }
      ]
    },
    {
      "cell_type": "code",
      "metadata": {
        "colab": {
          "base_uri": "https://localhost:8080/"
        },
        "id": "40vRAKONNrjv",
        "outputId": "631981e9-3faf-49eb-afc3-585ff2f8bd55"
      },
      "source": [
        "item_em_weights = item_em_weights / np.linalg.norm(item_em_weights, axis = 1).reshape((-1, 1))\n",
        "item_em_weights[0][:10]\n",
        "np.sum(np.square(item_em_weights[0]))"
      ],
      "execution_count": 21,
      "outputs": [
        {
          "output_type": "execute_result",
          "data": {
            "text/plain": [
              "1.0000001"
            ]
          },
          "metadata": {
            "tags": []
          },
          "execution_count": 21
        }
      ]
    },
    {
      "cell_type": "code",
      "metadata": {
        "colab": {
          "base_uri": "https://localhost:8080/",
          "height": 391
        },
        "id": "OY5-m6HVN4yG",
        "outputId": "24aec813-e7d5-4bc0-95a6-188890fa5416"
      },
      "source": [
        "plt.figure(figsize=(10,6)) \n",
        "\n",
        "pca = PCA(n_components=2)\n",
        "pca_result = pca.fit_transform(item_em_weights)\n",
        "sns.scatterplot(x=pca_result[:,0], y=pca_result[:,1])"
      ],
      "execution_count": 22,
      "outputs": [
        {
          "output_type": "execute_result",
          "data": {
            "text/plain": [
              "<matplotlib.axes._subplots.AxesSubplot at 0x7f2ff47a8e90>"
            ]
          },
          "metadata": {
            "tags": []
          },
          "execution_count": 22
        },
        {
          "output_type": "display_data",
          "data": {
            "image/png": "[encoded data removed]",
            "text/plain": [
              "<Figure size 720x432 with 1 Axes>"
            ]
          },
          "metadata": {
            "tags": [],
            "needs_background": "light"
          }
        }
      ]
    },
    {
      "cell_type": "markdown",
      "metadata": {
        "id": "fq6oqz6If2pt"
      },
      "source": [
        "## Suggesting recommendations"
      ]
    },
    {
      "cell_type": "code",
      "metadata": {
        "colab": {
          "base_uri": "https://localhost:8080/"
        },
        "id": "FHzcBMTVOFfM",
        "outputId": "d5cea583-260e-4821-e86b-5cd2863e6fff"
      },
      "source": [
        "# Creating dataset for making recommendations for the first user\n",
        "item_data = np.array(list(set(df.movie_ids)))\n",
        "item_data[:10]"
      ],
      "execution_count": 23,
      "outputs": [
        {
          "output_type": "execute_result",
          "data": {
            "text/plain": [
              "array([ 1,  2,  3,  4,  5,  6,  7,  8,  9, 10])"
            ]
          },
          "metadata": {
            "tags": []
          },
          "execution_count": 23
        }
      ]
    },
    {
      "cell_type": "code",
      "metadata": {
        "colab": {
          "base_uri": "https://localhost:8080/"
        },
        "id": "o3N-kp2kOQRE",
        "outputId": "87a1c9ad-eb06-416b-81a2-0d840a67b971"
      },
      "source": [
        "user = np.array([1 for i in range(len(item_data))])\n",
        "user[:10]"
      ],
      "execution_count": 24,
      "outputs": [
        {
          "output_type": "execute_result",
          "data": {
            "text/plain": [
              "array([1, 1, 1, 1, 1, 1, 1, 1, 1, 1])"
            ]
          },
          "metadata": {
            "tags": []
          },
          "execution_count": 24
        }
      ]
    },
    {
      "cell_type": "code",
      "metadata": {
        "colab": {
          "base_uri": "https://localhost:8080/"
        },
        "id": "aFCyeUKjOWQ0",
        "outputId": "0c10c336-2070-496b-a655-4a2a920be802"
      },
      "source": [
        "predictions = model.predict([user, item_data])\n",
        "\n",
        "predictions = np.array([a[0] for a in predictions])\n",
        "\n",
        "recommended_movie_ids = (-predictions).argsort()[:10]\n",
        "\n",
        "recommended_movie_ids"
      ],
      "execution_count": 25,
      "outputs": [
        {
          "output_type": "execute_result",
          "data": {
            "text/plain": [
              "array([1174,  542, 1466, 1462, 1404, 1387, 1499, 1448, 1628, 1343])"
            ]
          },
          "metadata": {
            "tags": []
          },
          "execution_count": 25
        }
      ]
    },
    {
      "cell_type": "code",
      "metadata": {
        "colab": {
          "base_uri": "https://localhost:8080/",
          "height": 204
        },
        "id": "r5Ks27D_OqRe",
        "outputId": "33660df7-7ca7-4bbb-cb9b-53a939249ea3"
      },
      "source": [
        "movies = pd.read_csv('/content/drive/MyDrive/Recommendation System/movies.csv', encoding='ISO-8859-1')\n",
        "movies.head()"
      ],
      "execution_count": 26,
      "outputs": [
        {
          "output_type": "execute_result",
          "data": {
            "text/html": [
              "<div>\n",
              "<style scoped>\n",
              "    .dataframe tbody tr th:only-of-type {\n",
              "        vertical-align: middle;\n",
              "    }\n",
              "\n",
              "    .dataframe tbody tr th {\n",
              "        vertical-align: top;\n",
              "    }\n",
              "\n",
              "    .dataframe thead th {\n",
              "        text-align: right;\n",
              "    }\n",
              "</style>\n",
              "<table border=\"1\" class=\"dataframe\">\n",
              "  <thead>\n",
              "    <tr style=\"text-align: right;\">\n",
              "      <th></th>\n",
              "      <th>movie_id</th>\n",
              "      <th>movie_title</th>\n",
              "      <th>year_of_release</th>\n",
              "      <th>genre</th>\n",
              "    </tr>\n",
              "  </thead>\n",
              "  <tbody>\n",
              "    <tr>\n",
              "      <th>0</th>\n",
              "      <td>1</td>\n",
              "      <td>Toy Story</td>\n",
              "      <td>1995.0</td>\n",
              "      <td>Animation|Children's|Comedy</td>\n",
              "    </tr>\n",
              "    <tr>\n",
              "      <th>1</th>\n",
              "      <td>2</td>\n",
              "      <td>Jumanji</td>\n",
              "      <td>1995.0</td>\n",
              "      <td>Adventure|Children's|Fantasy</td>\n",
              "    </tr>\n",
              "    <tr>\n",
              "      <th>2</th>\n",
              "      <td>3</td>\n",
              "      <td>Grumpier Old Men</td>\n",
              "      <td>1995.0</td>\n",
              "      <td>Comedy|Romance</td>\n",
              "    </tr>\n",
              "    <tr>\n",
              "      <th>3</th>\n",
              "      <td>4</td>\n",
              "      <td>Waiting to Exhale</td>\n",
              "      <td>1995.0</td>\n",
              "      <td>Comedy|Drama</td>\n",
              "    </tr>\n",
              "    <tr>\n",
              "      <th>4</th>\n",
              "      <td>5</td>\n",
              "      <td>Father of the Bride Part II</td>\n",
              "      <td>1995.0</td>\n",
              "      <td>Comedy</td>\n",
              "    </tr>\n",
              "  </tbody>\n",
              "</table>\n",
              "</div>"
            ],
            "text/plain": [
              "   movie_id  ...                         genre\n",
              "0         1  ...   Animation|Children's|Comedy\n",
              "1         2  ...  Adventure|Children's|Fantasy\n",
              "2         3  ...                Comedy|Romance\n",
              "3         4  ...                  Comedy|Drama\n",
              "4         5  ...                        Comedy\n",
              "\n",
              "[5 rows x 4 columns]"
            ]
          },
          "metadata": {
            "tags": []
          },
          "execution_count": 26
        }
      ]
    },
    {
      "cell_type": "code",
      "metadata": {
        "colab": {
          "base_uri": "https://localhost:8080/",
          "height": 359
        },
        "id": "64inhK9EXz4E",
        "outputId": "36a9255c-9deb-4c8b-a330-621382fad33a"
      },
      "source": [
        "movies[movies['movie_id'].isin(recommended_movie_ids)]"
      ],
      "execution_count": 27,
      "outputs": [
        {
          "output_type": "execute_result",
          "data": {
            "text/html": [
              "<div>\n",
              "<style scoped>\n",
              "    .dataframe tbody tr th:only-of-type {\n",
              "        vertical-align: middle;\n",
              "    }\n",
              "\n",
              "    .dataframe tbody tr th {\n",
              "        vertical-align: top;\n",
              "    }\n",
              "\n",
              "    .dataframe thead th {\n",
              "        text-align: right;\n",
              "    }\n",
              "</style>\n",
              "<table border=\"1\" class=\"dataframe\">\n",
              "  <thead>\n",
              "    <tr style=\"text-align: right;\">\n",
              "      <th></th>\n",
              "      <th>movie_id</th>\n",
              "      <th>movie_title</th>\n",
              "      <th>year_of_release</th>\n",
              "      <th>genre</th>\n",
              "    </tr>\n",
              "  </thead>\n",
              "  <tbody>\n",
              "    <tr>\n",
              "      <th>537</th>\n",
              "      <td>542</td>\n",
              "      <td>Son in Law</td>\n",
              "      <td>NaN</td>\n",
              "      <td>Comedy</td>\n",
              "    </tr>\n",
              "    <tr>\n",
              "      <th>1157</th>\n",
              "      <td>1174</td>\n",
              "      <td>Grosse Fatigue</td>\n",
              "      <td>NaN</td>\n",
              "      <td>Comedy</td>\n",
              "    </tr>\n",
              "    <tr>\n",
              "      <th>1321</th>\n",
              "      <td>1343</td>\n",
              "      <td>Cape Fear</td>\n",
              "      <td>NaN</td>\n",
              "      <td>Thriller</td>\n",
              "    </tr>\n",
              "    <tr>\n",
              "      <th>1365</th>\n",
              "      <td>1387</td>\n",
              "      <td>Jaws</td>\n",
              "      <td>NaN</td>\n",
              "      <td>Action|Horror</td>\n",
              "    </tr>\n",
              "    <tr>\n",
              "      <th>1380</th>\n",
              "      <td>1404</td>\n",
              "      <td>Night Falls on Manhattan</td>\n",
              "      <td>NaN</td>\n",
              "      <td>Crime|Drama</td>\n",
              "    </tr>\n",
              "    <tr>\n",
              "      <th>1422</th>\n",
              "      <td>1448</td>\n",
              "      <td>Fire on the Mountain</td>\n",
              "      <td>NaN</td>\n",
              "      <td>Documentary</td>\n",
              "    </tr>\n",
              "    <tr>\n",
              "      <th>1434</th>\n",
              "      <td>1462</td>\n",
              "      <td>Unforgotten: Twenty-Five Years After Willowbrook</td>\n",
              "      <td>NaN</td>\n",
              "      <td>Documentary</td>\n",
              "    </tr>\n",
              "    <tr>\n",
              "      <th>1438</th>\n",
              "      <td>1466</td>\n",
              "      <td>Donnie Brasco</td>\n",
              "      <td>NaN</td>\n",
              "      <td>Crime|Drama</td>\n",
              "    </tr>\n",
              "    <tr>\n",
              "      <th>1466</th>\n",
              "      <td>1499</td>\n",
              "      <td>Anaconda</td>\n",
              "      <td>NaN</td>\n",
              "      <td>Action|Adventure|Thriller</td>\n",
              "    </tr>\n",
              "    <tr>\n",
              "      <th>1584</th>\n",
              "      <td>1628</td>\n",
              "      <td>Locusts</td>\n",
              "      <td>NaN</td>\n",
              "      <td>NaN</td>\n",
              "    </tr>\n",
              "  </tbody>\n",
              "</table>\n",
              "</div>"
            ],
            "text/plain": [
              "      movie_id  ...                      genre\n",
              "537        542  ...                     Comedy\n",
              "1157      1174  ...                     Comedy\n",
              "1321      1343  ...                   Thriller\n",
              "1365      1387  ...              Action|Horror\n",
              "1380      1404  ...                Crime|Drama\n",
              "1422      1448  ...                Documentary\n",
              "1434      1462  ...                Documentary\n",
              "1438      1466  ...                Crime|Drama\n",
              "1466      1499  ...  Action|Adventure|Thriller\n",
              "1584      1628  ...                        NaN\n",
              "\n",
              "[10 rows x 4 columns]"
            ]
          },
          "metadata": {
            "tags": []
          },
          "execution_count": 27
        }
      ]
    }
  ]
}